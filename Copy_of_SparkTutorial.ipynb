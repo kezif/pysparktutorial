{
  "nbformat": 4,
  "nbformat_minor": 0,
  "metadata": {
    "colab": {
      "name": "Copy of SparkTutorial.ipynb",
      "provenance": [],
      "collapsed_sections": []
    },
    "kernelspec": {
      "name": "python3",
      "display_name": "Python 3"
    }
  },
  "cells": [
    {
      "cell_type": "code",
      "metadata": {
        "id": "Do1U0yxBG4q3",
        "colab_type": "code",
        "colab": {
          "base_uri": "https://localhost:8080/",
          "height": 204
        },
        "outputId": "4ca64ae8-53f0-4fbc-92fb-707634990fc3"
      },
      "source": [
        "!apt-get install openjdk-8-jdk-headless -qq > /dev/null\n",
        "!wget -q http://www-us.apache.org/dist/spark/spark-2.4.6/spark-2.4.6-bin-hadoop2.7.tgz\n",
        "!tar xf spark-2.4.6-bin-hadoop2.7.tgz\n",
        "!pip install -q findspark\n",
        "!wget https://www.gutenberg.org/files/2600/2600-0.txt -O war-and-peace.txt"
      ],
      "execution_count": 48,
      "outputs": [
        {
          "output_type": "stream",
          "text": [
            "--2020-07-29 12:17:16--  https://www.gutenberg.org/files/2600/2600-0.txt\n",
            "Resolving www.gutenberg.org (www.gutenberg.org)... 152.19.134.47, 2610:28:3090:3000:0:bad:cafe:47\n",
            "Connecting to www.gutenberg.org (www.gutenberg.org)|152.19.134.47|:443... connected.\n",
            "HTTP request sent, awaiting response... 200 OK\n",
            "Length: 3359549 (3.2M) [text/plain]\n",
            "Saving to: ‘war-and-peace.txt’\n",
            "\n",
            "war-and-peace.txt   100%[===================>]   3.20M   754KB/s    in 6.3s    \n",
            "\n",
            "2020-07-29 12:17:23 (521 KB/s) - ‘war-and-peace.txt’ saved [3359549/3359549]\n",
            "\n"
          ],
          "name": "stdout"
        }
      ]
    },
    {
      "cell_type": "code",
      "metadata": {
        "id": "Fi0Ox-hdHH2O",
        "colab_type": "code",
        "colab": {}
      },
      "source": [
        "import os\n",
        "os.environ[\"JAVA_HOME\"] = \"/usr/lib/jvm/java-8-openjdk-amd64\"\n",
        "os.environ[\"SPARK_HOME\"] = \"/content/spark-2.4.6-bin-hadoop2.7\""
      ],
      "execution_count": 49,
      "outputs": []
    },
    {
      "cell_type": "code",
      "metadata": {
        "id": "zEoFg4aAHIXK",
        "colab_type": "code",
        "colab": {}
      },
      "source": [
        "import findspark\n",
        "findspark.init()\n",
        "from pyspark import SparkContext\n",
        "\n",
        "sc = SparkContext.getOrCreate()"
      ],
      "execution_count": 50,
      "outputs": []
    },
    {
      "cell_type": "code",
      "metadata": {
        "id": "cLzjVyAlHKnF",
        "colab_type": "code",
        "colab": {
          "base_uri": "https://localhost:8080/",
          "height": 193
        },
        "outputId": "35eab551-161a-4fb7-8a68-c2b5a0f20ca3"
      },
      "source": [
        "sc"
      ],
      "execution_count": 51,
      "outputs": [
        {
          "output_type": "execute_result",
          "data": {
            "text/html": [
              "\n",
              "        <div>\n",
              "            <p><b>SparkContext</b></p>\n",
              "\n",
              "            <p><a href=\"http://2ec6d6e68f15:4040\">Spark UI</a></p>\n",
              "\n",
              "            <dl>\n",
              "              <dt>Version</dt>\n",
              "                <dd><code>v2.4.6</code></dd>\n",
              "              <dt>Master</dt>\n",
              "                <dd><code>local[*]</code></dd>\n",
              "              <dt>AppName</dt>\n",
              "                <dd><code>pyspark-shell</code></dd>\n",
              "            </dl>\n",
              "        </div>\n",
              "        "
            ],
            "text/plain": [
              "<SparkContext master=local[*] appName=pyspark-shell>"
            ]
          },
          "metadata": {
            "tags": []
          },
          "execution_count": 51
        }
      ]
    },
    {
      "cell_type": "code",
      "metadata": {
        "id": "cLOUmmXwHPUa",
        "colab_type": "code",
        "colab": {
          "base_uri": "https://localhost:8080/",
          "height": 34
        },
        "outputId": "f5691028-a46c-469b-f2c7-4216a721425f"
      },
      "source": [
        "# A helper function to compute the list of words in a line of text\n",
        "import re\n",
        "def get_words(line):\n",
        "    return re.compile('\\w+').findall(line)\n",
        "\n",
        "print(get_words(\"This, is a test!\"))"
      ],
      "execution_count": 52,
      "outputs": [
        {
          "output_type": "stream",
          "text": [
            "['This', 'is', 'a', 'test']\n"
          ],
          "name": "stdout"
        }
      ]
    },
    {
      "cell_type": "markdown",
      "metadata": {
        "id": "Bhp1h9qYVSOg",
        "colab_type": "text"
      },
      "source": [
        "### Learning activity: Create RDD with `parallelize`\n",
        "Transform the list `words` into an rdd. The count should return `3`"
      ]
    },
    {
      "cell_type": "code",
      "metadata": {
        "id": "nTjbrrfLU4CV",
        "colab_type": "code",
        "colab": {}
      },
      "source": [
        "words = [\"Hello\", \"Spark\", \"1\"]"
      ],
      "execution_count": 53,
      "outputs": []
    },
    {
      "cell_type": "code",
      "metadata": {
        "id": "nMaVr5bnc2_Y",
        "colab_type": "code",
        "colab": {
          "base_uri": "https://localhost:8080/",
          "height": 34
        },
        "outputId": "605a92da-8987-4867-96c4-d53fba805bbf"
      },
      "source": [
        "sc.parallelize(words).count()"
      ],
      "execution_count": 54,
      "outputs": [
        {
          "output_type": "execute_result",
          "data": {
            "text/plain": [
              "3"
            ]
          },
          "metadata": {
            "tags": []
          },
          "execution_count": 54
        }
      ]
    },
    {
      "cell_type": "markdown",
      "metadata": {
        "id": "5TTiB3bnVVr7",
        "colab_type": "text"
      },
      "source": [
        "### Learning activity: Create RDDs"
      ]
    },
    {
      "cell_type": "markdown",
      "metadata": {
        "id": "2dkDdhzUVaZp",
        "colab_type": "text"
      },
      "source": [
        "To analyse large datasets using Spark you will load them into Resilient Distributed Datasets (RDDs). There are a number of ways in which you can create RDDs. Use the `parallelize()` function to create one from a Python collection, and use the `textFile()` function to create an RDD from the file `data/war-and-peace.txt`. "
      ]
    },
    {
      "cell_type": "code",
      "metadata": {
        "id": "oRhnaqzEVpSC",
        "colab_type": "code",
        "colab": {}
      },
      "source": [
        "data = sc.textFile(\"war-and-peace.txt\")"
      ],
      "execution_count": 55,
      "outputs": []
    },
    {
      "cell_type": "markdown",
      "metadata": {
        "id": "wCaLGNW_Vjq7",
        "colab_type": "text"
      },
      "source": [
        "### Learning activity: Basic RDD manipulation"
      ]
    },
    {
      "cell_type": "markdown",
      "metadata": {
        "id": "rlU_aPA2VZYy",
        "colab_type": "text"
      },
      "source": [
        "Print the number of lines in War and Peace using the method `count()`"
      ]
    },
    {
      "cell_type": "code",
      "metadata": {
        "id": "SDfpIO-SVs0i",
        "colab_type": "code",
        "colab": {
          "base_uri": "https://localhost:8080/",
          "height": 34
        },
        "outputId": "8a75605c-53c8-4282-f397-74e1944743cd"
      },
      "source": [
        "data.count()"
      ],
      "execution_count": 56,
      "outputs": [
        {
          "output_type": "execute_result",
          "data": {
            "text/plain": [
              "66055"
            ]
          },
          "metadata": {
            "tags": []
          },
          "execution_count": 56
        }
      ]
    },
    {
      "cell_type": "markdown",
      "metadata": {
        "id": "BTfuFazxVtUm",
        "colab_type": "text"
      },
      "source": [
        "Print the first 15 lines using the method `take()`."
      ]
    },
    {
      "cell_type": "code",
      "metadata": {
        "id": "51CrCRKNVv_8",
        "colab_type": "code",
        "colab": {
          "base_uri": "https://localhost:8080/",
          "height": 102
        },
        "outputId": "95d34aeb-e657-4315-df09-71d0ed6e5fef"
      },
      "source": [
        "data.take(5)"
      ],
      "execution_count": 57,
      "outputs": [
        {
          "output_type": "execute_result",
          "data": {
            "text/plain": [
              "['',\n",
              " 'The Project Gutenberg EBook of War and Peace, by Leo Tolstoy',\n",
              " '',\n",
              " 'This eBook is for the use of anyone anywhere at no cost and with almost',\n",
              " 'no restrictions whatsoever. You may copy it, give it away or re-use']"
            ]
          },
          "metadata": {
            "tags": []
          },
          "execution_count": 57
        }
      ]
    },
    {
      "cell_type": "code",
      "metadata": {
        "id": "8izRR5pdbd6W",
        "colab_type": "code",
        "colab": {
          "base_uri": "https://localhost:8080/",
          "height": 34
        },
        "outputId": "4334208b-63c8-4d75-eb31-e0162c32f789"
      },
      "source": [
        "data.filter(lambda line: 'war' in get_words(line)).count()"
      ],
      "execution_count": 58,
      "outputs": [
        {
          "output_type": "execute_result",
          "data": {
            "text/plain": [
              "266"
            ]
          },
          "metadata": {
            "tags": []
          },
          "execution_count": 58
        }
      ]
    },
    {
      "cell_type": "markdown",
      "metadata": {
        "id": "1y33wx4rVwf4",
        "colab_type": "text"
      },
      "source": [
        "### Learning activity: `filter()` and `map()` and `distinct()`"
      ]
    },
    {
      "cell_type": "markdown",
      "metadata": {
        "id": "hQgOWckRV2qn",
        "colab_type": "text"
      },
      "source": [
        "Use `filter()` to count the number of lines which mention `war` and the number of lines which mention `peace`."
      ]
    },
    {
      "cell_type": "code",
      "metadata": {
        "id": "2_iWzSb3Vyh9",
        "colab_type": "code",
        "colab": {
          "base_uri": "https://localhost:8080/",
          "height": 34
        },
        "outputId": "e822435c-748b-49be-ed8d-f51d0e5cd57c"
      },
      "source": [
        "# How often is war mentioned?\n",
        "data.filter(lambda line: \"war\" in get_words(line)).count()\n",
        "#data.map(lambda line: get_words(line)).take(5)"
      ],
      "execution_count": 59,
      "outputs": [
        {
          "output_type": "execute_result",
          "data": {
            "text/plain": [
              "266"
            ]
          },
          "metadata": {
            "tags": []
          },
          "execution_count": 59
        }
      ]
    },
    {
      "cell_type": "code",
      "metadata": {
        "id": "tg4i7723V9Hx",
        "colab_type": "code",
        "colab": {
          "base_uri": "https://localhost:8080/",
          "height": 34
        },
        "outputId": "c5fd17ea-0287-46eb-e212-e95c7d25af94"
      },
      "source": [
        "# How often is peace mentioned?\n",
        "data.filter(lambda line: \"peace\" in get_words(line)).count()"
      ],
      "execution_count": 60,
      "outputs": [
        {
          "output_type": "execute_result",
          "data": {
            "text/plain": [
              "104"
            ]
          },
          "metadata": {
            "tags": []
          },
          "execution_count": 60
        }
      ]
    },
    {
      "cell_type": "markdown",
      "metadata": {
        "id": "e9vKjSRTWAcJ",
        "colab_type": "text"
      },
      "source": [
        "Use `map()` to capitalise each line in the RDD, and print the first 15 capitalized lines."
      ]
    },
    {
      "cell_type": "code",
      "metadata": {
        "id": "SfvO8Qi3V-py",
        "colab_type": "code",
        "colab": {
          "base_uri": "https://localhost:8080/",
          "height": 357
        },
        "outputId": "deb95e64-3469-4ec7-9a64-58af8fc1781d"
      },
      "source": [
        "# Capitalize each line in the RDD\n",
        "data.map(lambda line: line.upper()).take(20)"
      ],
      "execution_count": 61,
      "outputs": [
        {
          "output_type": "execute_result",
          "data": {
            "text/plain": [
              "['',\n",
              " 'THE PROJECT GUTENBERG EBOOK OF WAR AND PEACE, BY LEO TOLSTOY',\n",
              " '',\n",
              " 'THIS EBOOK IS FOR THE USE OF ANYONE ANYWHERE AT NO COST AND WITH ALMOST',\n",
              " 'NO RESTRICTIONS WHATSOEVER. YOU MAY COPY IT, GIVE IT AWAY OR RE-USE',\n",
              " 'IT UNDER THE TERMS OF THE PROJECT GUTENBERG LICENSE INCLUDED WITH THIS',\n",
              " 'EBOOK OR ONLINE AT WWW.GUTENBERG.ORG',\n",
              " '',\n",
              " '',\n",
              " 'TITLE: WAR AND PEACE',\n",
              " '',\n",
              " 'AUTHOR: LEO TOLSTOY',\n",
              " '',\n",
              " 'TRANSLATORS: LOUISE AND AYLMER MAUDE',\n",
              " '',\n",
              " 'POSTING DATE: JANUARY 10, 2009 [EBOOK #2600]',\n",
              " '',\n",
              " 'LAST UPDATED: JANUARY 21, 2019',\n",
              " '',\n",
              " 'LANGUAGE: ENGLISH']"
            ]
          },
          "metadata": {
            "tags": []
          },
          "execution_count": 61
        }
      ]
    },
    {
      "cell_type": "markdown",
      "metadata": {
        "id": "5yQRV0nSWFZA",
        "colab_type": "text"
      },
      "source": [
        "Use `flatMap()` to create an RDD of the words in War and Peace and count the number of words."
      ]
    },
    {
      "cell_type": "code",
      "metadata": {
        "id": "b6HkaxaUWCPe",
        "colab_type": "code",
        "colab": {
          "base_uri": "https://localhost:8080/",
          "height": 34
        },
        "outputId": "ef7e8869-12f0-4534-e811-346cdd23386a"
      },
      "source": [
        "# Split each line into words using get_words()\n",
        "words = data.flatMap(lambda line: get_words(line))\n",
        "words.count()"
      ],
      "execution_count": 62,
      "outputs": [
        {
          "output_type": "execute_result",
          "data": {
            "text/plain": [
              "576629"
            ]
          },
          "metadata": {
            "tags": []
          },
          "execution_count": 62
        }
      ]
    },
    {
      "cell_type": "markdown",
      "metadata": {
        "id": "g_lC8xYDWJtr",
        "colab_type": "text"
      },
      "source": [
        "Finally, use `distinct()` to count the number of different words in the RDD."
      ]
    },
    {
      "cell_type": "code",
      "metadata": {
        "id": "yWVbcCiJWHwo",
        "colab_type": "code",
        "colab": {
          "base_uri": "https://localhost:8080/",
          "height": 34
        },
        "outputId": "0888dada-cde6-4dbf-ed76-e574055ea30c"
      },
      "source": [
        "# Count the number of distinct words\n",
        "words.distinct().count()"
      ],
      "execution_count": 63,
      "outputs": [
        {
          "output_type": "execute_result",
          "data": {
            "text/plain": [
              "19423"
            ]
          },
          "metadata": {
            "tags": []
          },
          "execution_count": 63
        }
      ]
    },
    {
      "cell_type": "markdown",
      "metadata": {
        "id": "4-_kWZDqWPxp",
        "colab_type": "text"
      },
      "source": [
        "### Learning activity: Set like transformations"
      ]
    },
    {
      "cell_type": "markdown",
      "metadata": {
        "id": "2OT9ilbKWSMN",
        "colab_type": "text"
      },
      "source": [
        "Use the function `union()` to create an RDD of lines with either war or peace mentioned. Count how many lines."
      ]
    },
    {
      "cell_type": "code",
      "metadata": {
        "id": "fHgEx4YRWLm7",
        "colab_type": "code",
        "colab": {}
      },
      "source": [
        "war_lines = data.filter(lambda line: 'war' in get_words(line) )\n",
        "pie_lines = data.filter(lambda line: 'peace' in get_words(line))\n",
        "war_or_peace_lines = war_lines.union(pie_lines)"
      ],
      "execution_count": 64,
      "outputs": []
    },
    {
      "cell_type": "code",
      "metadata": {
        "id": "_wP7IvZKfYVm",
        "colab_type": "code",
        "colab": {
          "base_uri": "https://localhost:8080/",
          "height": 34
        },
        "outputId": "01f8eff6-31fe-46b2-f58b-0c718489184f"
      },
      "source": [
        "war_lines.count(), pie_lines.count(), war_or_peace_lines.count()"
      ],
      "execution_count": 65,
      "outputs": [
        {
          "output_type": "execute_result",
          "data": {
            "text/plain": [
              "(266, 104, 370)"
            ]
          },
          "metadata": {
            "tags": []
          },
          "execution_count": 65
        }
      ]
    },
    {
      "cell_type": "markdown",
      "metadata": {
        "id": "z561x05hWVFs",
        "colab_type": "text"
      },
      "source": [
        "Use the function `intersection()` to create an RDD of lines with both war and peace being mentioned. Count how many lines."
      ]
    },
    {
      "cell_type": "code",
      "metadata": {
        "id": "I9WMQvRuWVgE",
        "colab_type": "code",
        "colab": {
          "base_uri": "https://localhost:8080/",
          "height": 34
        },
        "outputId": "411cfa75-9e79-40e5-a218-44765c0042f9"
      },
      "source": [
        "war_n_peace_lins = war_lines.intersection(pie_lines)\n",
        "war_n_peace_lins.count()"
      ],
      "execution_count": 66,
      "outputs": [
        {
          "output_type": "execute_result",
          "data": {
            "text/plain": [
              "7"
            ]
          },
          "metadata": {
            "tags": []
          },
          "execution_count": 66
        }
      ]
    },
    {
      "cell_type": "markdown",
      "metadata": {
        "id": "MdUziWFFWXxx",
        "colab_type": "text"
      },
      "source": [
        "Find all the lines that mention both war and peace without using `intersection()`"
      ]
    },
    {
      "cell_type": "code",
      "metadata": {
        "id": "biFCZBmSWYBh",
        "colab_type": "code",
        "colab": {
          "base_uri": "https://localhost:8080/",
          "height": 34
        },
        "outputId": "861db36d-d484-47cd-e99d-02f3edc2f4e8"
      },
      "source": [
        "war_n_peace_lines = data.filter(lambda line: 'war' in get_words(line) and 'peace'  in get_words(line) )\n",
        "war_n_peace_lines.count()"
      ],
      "execution_count": 67,
      "outputs": [
        {
          "output_type": "execute_result",
          "data": {
            "text/plain": [
              "7"
            ]
          },
          "metadata": {
            "tags": []
          },
          "execution_count": 67
        }
      ]
    },
    {
      "cell_type": "markdown",
      "metadata": {
        "id": "k6M7TjOqWZ8c",
        "colab_type": "text"
      },
      "source": [
        "### Learning activity: `reduce()`"
      ]
    },
    {
      "cell_type": "markdown",
      "metadata": {
        "id": "ijmNvFZSWa3_",
        "colab_type": "text"
      },
      "source": [
        "You have already seen three actions: `collect()` which returns all elements in the RDD, `take(n)`, which return the first `n` elements of the RDD, and `count()` which returns the number of elements in the RDD.\n",
        "\n",
        "The action `reduce()` takes as input a function which collapses two elements into one. Use it to find the longest word in War and Peace."
      ]
    },
    {
      "cell_type": "code",
      "metadata": {
        "id": "cakZqxKnWaQM",
        "colab_type": "code",
        "colab": {
          "base_uri": "https://localhost:8080/",
          "height": 34
        },
        "outputId": "81b2a405-8df0-4183-8368-ba33abf2467c"
      },
      "source": [
        "words_len = words.map(lambda w: (w, len(w)))\n",
        "\n",
        "words_len.max(key=lambda a:a[1])"
      ],
      "execution_count": 68,
      "outputs": [
        {
          "output_type": "execute_result",
          "data": {
            "text/plain": [
              "('characteristically', 18)"
            ]
          },
          "metadata": {
            "tags": []
          },
          "execution_count": 68
        }
      ]
    },
    {
      "cell_type": "markdown",
      "metadata": {
        "id": "gFRJWkloWhij",
        "colab_type": "text"
      },
      "source": [
        "The Python function `str.istitle()` returns `True` if the string `str` is titlecased: the first character is uppercase and others are lowercase. Use it to:\n",
        "* Find the set of distinct words in War and Peace which are titlecased\n",
        "* Find the set of distinct words in War and Peace which are not titlecased\n",
        "\n",
        "The Python function `str.lower()` returns a string with all characters of str lowercase. Use it, along with your previously generated RDD to find the set of words in War and Peace which only appear titlecased."
      ]
    },
    {
      "cell_type": "code",
      "metadata": {
        "id": "K3puUD6NWiBX",
        "colab_type": "code",
        "colab": {
          "base_uri": "https://localhost:8080/",
          "height": 34
        },
        "outputId": "ae7a0551-2eae-4442-f5eb-5d01818e0d23"
      },
      "source": [
        "title_words_count = words.filter(lambda w: w.istitle()).distinct().count()\n",
        "\n",
        "\n",
        "title_words_count, words.count() - title_words_count"
      ],
      "execution_count": 69,
      "outputs": [
        {
          "output_type": "execute_result",
          "data": {
            "text/plain": [
              "(3128, 573501)"
            ]
          },
          "metadata": {
            "tags": []
          },
          "execution_count": 69
        }
      ]
    },
    {
      "cell_type": "markdown",
      "metadata": {
        "id": "q-gtTEV4WnZ-",
        "colab_type": "text"
      },
      "source": [
        "### Learning activity: WordCount in Spark\n",
        "\n",
        "Use the functions `flatMap()` and `reduceByKey()` to count the number of occurences of each word in War and Peace, and print the count of five words."
      ]
    },
    {
      "cell_type": "code",
      "metadata": {
        "id": "Bn5vN8HVWj_R",
        "colab_type": "code",
        "colab": {
          "base_uri": "https://localhost:8080/",
          "height": 34
        },
        "outputId": "483b5e78-4d25-4315-c5ba-bf9b9a85fe8a"
      },
      "source": [
        "word_key = words.map(lambda w: (w, 1))\n",
        "\n",
        "word_key.reduceByKey(lambda x, y: x+y).sortBy(lambda x: x[1], ascending=False).take(5)"
      ],
      "execution_count": 91,
      "outputs": [
        {
          "output_type": "execute_result",
          "data": {
            "text/plain": [
              "[('the', 31954), ('and', 21214), ('to', 16514), ('of', 14939), ('a', 10129)]"
            ]
          },
          "metadata": {
            "tags": []
          },
          "execution_count": 91
        }
      ]
    },
    {
      "cell_type": "markdown",
      "metadata": {
        "id": "JjVCf2kPWtD-",
        "colab_type": "text"
      },
      "source": [
        "### Learning activity: using `groupByKey()`\n",
        "Reimplement the above word count using `groupByKey()` instead of `reduceByKey()`"
      ]
    },
    {
      "cell_type": "code",
      "metadata": {
        "id": "yoD4OJIuWviR",
        "colab_type": "code",
        "colab": {
          "base_uri": "https://localhost:8080/",
          "height": 34
        },
        "outputId": "714ea963-bf1a-45a2-fd5a-7651dba5193d"
      },
      "source": [
        "word_key.groupByKey().mapValues(sum).sortBy(lambda x: x[1], ascending=False).take(5)"
      ],
      "execution_count": 94,
      "outputs": [
        {
          "output_type": "execute_result",
          "data": {
            "text/plain": [
              "[('the', 31954), ('and', 21214), ('to', 16514), ('of', 14939), ('a', 10129)]"
            ]
          },
          "metadata": {
            "tags": []
          },
          "execution_count": 94
        }
      ]
    },
    {
      "cell_type": "code",
      "metadata": {
        "id": "A0bJJ09AhpX2",
        "colab_type": "code",
        "colab": {}
      },
      "source": [
        ""
      ],
      "execution_count": null,
      "outputs": []
    }
  ]
}